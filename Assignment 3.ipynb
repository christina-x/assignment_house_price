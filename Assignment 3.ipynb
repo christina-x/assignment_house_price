{
 "cells": [
  {
   "cell_type": "markdown",
   "metadata": {},
   "source": [
    "# 158.739 Assignment 3\n",
    "#### By Christina Xie 20008709"
   ]
  },
  {
   "cell_type": "markdown",
   "metadata": {},
   "source": [
    "## 1. Schema Definition"
   ]
  },
  {
   "cell_type": "markdown",
   "metadata": {},
   "source": [
    "I create a DB schema document that includes six tables that persist different attributes of variables in an Auckland real estate dataset. These tables cover property locations, property price, number of rooms, land size, property type, and geometry points. \n",
    "\n",
    "Before creating the DB schema, I read the real estate dataset first and use the index column as the unique identifier of each property. This is because the original dataset does not have a unique index for each address. What seems to be unique is not unique such as address and geometry point. This is the case for apartments, townhouses, and units. The index column is included in other tables and treated as the foreign key. \n",
    "\n",
    "The index is set as the primary key. The foreign key constraint checking system is enabled to study the relationships between tables. The property sale price is also included in all the tables to analyse the relationship between the price and different factors. \n",
    "\n",
    "The final DB schema document is shown as follows.\n",
    "<img src=../figures/DB-schema.jpg width=300>"
   ]
  },
  {
   "cell_type": "code",
   "execution_count": 4,
   "metadata": {},
   "outputs": [],
   "source": [
    "import pandas as pd\n",
    "import numpy as np\n",
    "import matplotlib.pyplot as plt\n",
    "import seaborn as sns\n",
    "import sqlite3\n",
    "\n",
    "from pylab import rcParams\n",
    "rcParams['figure.dpi'] = 400\n",
    "rcParams['lines.linewidth'] = 2 \n",
    "\n",
    "sns.set_context(\"notebook\", font_scale=1.2)\n",
    "sns.set_style(\"darkgrid\")\n",
    "\n",
    "%matplotlib inline\n",
    "\n",
    "# load ipython-sql library\n",
    "%load_ext sql"
   ]
  },
  {
   "cell_type": "code",
   "execution_count": 65,
   "metadata": {},
   "outputs": [],
   "source": [
    "# use the index as the unique identification of each property\n",
    "listings = pd.read_csv('../datasets/akl_property_listings.csv')\n",
    "listings.index.name='idx'\n",
    "listings = listings.reset_index()"
   ]
  },
  {
   "cell_type": "code",
   "execution_count": 66,
   "metadata": {},
   "outputs": [
    {
     "data": {
      "text/html": [
       "<div>\n",
       "<style scoped>\n",
       "    .dataframe tbody tr th:only-of-type {\n",
       "        vertical-align: middle;\n",
       "    }\n",
       "\n",
       "    .dataframe tbody tr th {\n",
       "        vertical-align: top;\n",
       "    }\n",
       "\n",
       "    .dataframe thead th {\n",
       "        text-align: right;\n",
       "    }\n",
       "</style>\n",
       "<table border=\"1\" class=\"dataframe\">\n",
       "  <thead>\n",
       "    <tr style=\"text-align: right;\">\n",
       "      <th></th>\n",
       "      <th>idx</th>\n",
       "      <th>Location</th>\n",
       "      <th>Suburb</th>\n",
       "      <th>Area</th>\n",
       "      <th>Bedroom</th>\n",
       "      <th>Bathroom</th>\n",
       "      <th>LandSize_m2</th>\n",
       "      <th>PropertyType</th>\n",
       "      <th>SalePrice</th>\n",
       "      <th>Latitude</th>\n",
       "      <th>Longitude</th>\n",
       "      <th>geometry</th>\n",
       "    </tr>\n",
       "  </thead>\n",
       "  <tbody>\n",
       "    <tr>\n",
       "      <th>0</th>\n",
       "      <td>0</td>\n",
       "      <td>17/104 Rosier Road, Glen Eden</td>\n",
       "      <td>Glen Eden</td>\n",
       "      <td>West</td>\n",
       "      <td>2</td>\n",
       "      <td>1</td>\n",
       "      <td>NaN</td>\n",
       "      <td>Townhouse</td>\n",
       "      <td>819000</td>\n",
       "      <td>-36.91808</td>\n",
       "      <td>174.63994</td>\n",
       "      <td>POINT (174.63994 -36.91808)</td>\n",
       "    </tr>\n",
       "    <tr>\n",
       "      <th>1</th>\n",
       "      <td>1</td>\n",
       "      <td>35 Hobson Street, Auckland Central</td>\n",
       "      <td>Auckland Central</td>\n",
       "      <td>Central</td>\n",
       "      <td>1</td>\n",
       "      <td>1</td>\n",
       "      <td>NaN</td>\n",
       "      <td>Apartment</td>\n",
       "      <td>549000</td>\n",
       "      <td>-36.84668</td>\n",
       "      <td>174.76202</td>\n",
       "      <td>POINT (174.76202 -36.84668)</td>\n",
       "    </tr>\n",
       "    <tr>\n",
       "      <th>2</th>\n",
       "      <td>2</td>\n",
       "      <td>158 Onehunga Mall, Onehunga</td>\n",
       "      <td>Onehunga</td>\n",
       "      <td>Central</td>\n",
       "      <td>2</td>\n",
       "      <td>1</td>\n",
       "      <td>88.0</td>\n",
       "      <td>Apartment</td>\n",
       "      <td>760000</td>\n",
       "      <td>-36.92358</td>\n",
       "      <td>174.78530</td>\n",
       "      <td>POINT (174.7853 -36.92358)</td>\n",
       "    </tr>\n",
       "    <tr>\n",
       "      <th>3</th>\n",
       "      <td>3</td>\n",
       "      <td>8 Ronayne Street, Auckland Central</td>\n",
       "      <td>Auckland Central</td>\n",
       "      <td>Central</td>\n",
       "      <td>3</td>\n",
       "      <td>2</td>\n",
       "      <td>NaN</td>\n",
       "      <td>Apartment</td>\n",
       "      <td>209000</td>\n",
       "      <td>-36.84914</td>\n",
       "      <td>174.77488</td>\n",
       "      <td>POINT (174.77488 -36.84914)</td>\n",
       "    </tr>\n",
       "    <tr>\n",
       "      <th>4</th>\n",
       "      <td>4</td>\n",
       "      <td>430 Queen Street, Auckland Central</td>\n",
       "      <td>Auckland Central</td>\n",
       "      <td>Central</td>\n",
       "      <td>2</td>\n",
       "      <td>1</td>\n",
       "      <td>NaN</td>\n",
       "      <td>Apartment</td>\n",
       "      <td>409000</td>\n",
       "      <td>-36.85432</td>\n",
       "      <td>174.76324</td>\n",
       "      <td>POINT (174.76324 -36.85432)</td>\n",
       "    </tr>\n",
       "  </tbody>\n",
       "</table>\n",
       "</div>"
      ],
      "text/plain": [
       "   idx                            Location            Suburb     Area  \\\n",
       "0    0       17/104 Rosier Road, Glen Eden         Glen Eden     West   \n",
       "1    1  35 Hobson Street, Auckland Central  Auckland Central  Central   \n",
       "2    2         158 Onehunga Mall, Onehunga          Onehunga  Central   \n",
       "3    3  8 Ronayne Street, Auckland Central  Auckland Central  Central   \n",
       "4    4  430 Queen Street, Auckland Central  Auckland Central  Central   \n",
       "\n",
       "   Bedroom  Bathroom  LandSize_m2 PropertyType  SalePrice  Latitude  \\\n",
       "0        2         1          NaN    Townhouse     819000 -36.91808   \n",
       "1        1         1          NaN    Apartment     549000 -36.84668   \n",
       "2        2         1         88.0    Apartment     760000 -36.92358   \n",
       "3        3         2          NaN    Apartment     209000 -36.84914   \n",
       "4        2         1          NaN    Apartment     409000 -36.85432   \n",
       "\n",
       "   Longitude                     geometry  \n",
       "0  174.63994  POINT (174.63994 -36.91808)  \n",
       "1  174.76202  POINT (174.76202 -36.84668)  \n",
       "2  174.78530   POINT (174.7853 -36.92358)  \n",
       "3  174.77488  POINT (174.77488 -36.84914)  \n",
       "4  174.76324  POINT (174.76324 -36.85432)  "
      ]
     },
     "execution_count": 66,
     "metadata": {},
     "output_type": "execute_result"
    }
   ],
   "source": [
    "listings.head()"
   ]
  },
  {
   "cell_type": "code",
   "execution_count": 5,
   "metadata": {},
   "outputs": [],
   "source": [
    "# connect to the database\n",
    "%sql sqlite:///../datasets/AucklandProperties.db"
   ]
  },
  {
   "cell_type": "code",
   "execution_count": 6,
   "metadata": {},
   "outputs": [
    {
     "name": "stdout",
     "output_type": "stream",
     "text": [
      "Done.\n"
     ]
    },
    {
     "data": {
      "text/plain": [
       "[]"
      ]
     },
     "execution_count": 6,
     "metadata": {},
     "output_type": "execute_result"
    }
   ],
   "source": [
    "# enable Foreign Key constraint checking\n",
    "%sql sqlite:///../datasets/AucklandProperties.db PRAGMA foreign_keys = ON;"
   ]
  },
  {
   "cell_type": "markdown",
   "metadata": {},
   "source": [
    "### Location table"
   ]
  },
  {
   "cell_type": "code",
   "execution_count": 72,
   "metadata": {},
   "outputs": [
    {
     "name": "stdout",
     "output_type": "stream",
     "text": [
      "Done.\n",
      "Done.\n"
     ]
    },
    {
     "data": {
      "text/plain": [
       "[]"
      ]
     },
     "execution_count": 72,
     "metadata": {},
     "output_type": "execute_result"
    }
   ],
   "source": [
    "%%sql sqlite:///../datasets/AucklandProperties.db\n",
    "DROP TABLE IF EXISTS LOCATION;\n",
    "CREATE TABLE LOCATION(  \n",
    "    idx INTEGER NOT NULL UNIQUE,\n",
    "    Location TEXT NOT NULL,\n",
    "    Suburb TEXT NOT NULL,\n",
    "    Area TEXT NOT NULL,\n",
    "    SalePrice INTEGER NOT NULL,\n",
    "    PRIMARY KEY (idx)\n",
    ");"
   ]
  },
  {
   "cell_type": "markdown",
   "metadata": {},
   "source": [
    "### Price table"
   ]
  },
  {
   "cell_type": "code",
   "execution_count": 73,
   "metadata": {},
   "outputs": [
    {
     "name": "stdout",
     "output_type": "stream",
     "text": [
      "Done.\n",
      "Done.\n"
     ]
    },
    {
     "data": {
      "text/plain": [
       "[]"
      ]
     },
     "execution_count": 73,
     "metadata": {},
     "output_type": "execute_result"
    }
   ],
   "source": [
    "%%sql sqlite:///../datasets/AucklandProperties.db\n",
    "DROP TABLE IF EXISTS PRICE;\n",
    "CREATE TABLE PRICE(\n",
    "    idx INTEGER NOT NULL UNIQUE,\n",
    "    Location TEXT NOT NULL,\n",
    "    SalePrice INTEGER NOT NULL,\n",
    "    FOREIGN KEY (idx) REFERENCES LOCATION (idx)\n",
    ");"
   ]
  },
  {
   "cell_type": "markdown",
   "metadata": {},
   "source": [
    "### Rooms table"
   ]
  },
  {
   "cell_type": "code",
   "execution_count": 74,
   "metadata": {},
   "outputs": [
    {
     "name": "stdout",
     "output_type": "stream",
     "text": [
      "Done.\n",
      "Done.\n"
     ]
    },
    {
     "data": {
      "text/plain": [
       "[]"
      ]
     },
     "execution_count": 74,
     "metadata": {},
     "output_type": "execute_result"
    }
   ],
   "source": [
    "%%sql sqlite:///../datasets/AucklandProperties.db\n",
    "DROP TABLE IF EXISTS ROOMS;\n",
    "CREATE TABLE ROOMS(\n",
    "    idx INTEGER NOT NULL UNIQUE,\n",
    "    Location TEXT NOT NULL,\n",
    "    Bedroom INTEGER NOT NULL,\n",
    "    Bathroom INTEGER NOT NULL,\n",
    "    SalePrice INTEGER NOT NULL,\n",
    "    FOREIGN KEY (idx) REFERENCES LOCATION (idx)\n",
    ");"
   ]
  },
  {
   "cell_type": "markdown",
   "metadata": {},
   "source": [
    "### Land size table"
   ]
  },
  {
   "cell_type": "code",
   "execution_count": 85,
   "metadata": {},
   "outputs": [
    {
     "name": "stdout",
     "output_type": "stream",
     "text": [
      "Done.\n",
      "Done.\n"
     ]
    },
    {
     "data": {
      "text/plain": [
       "[]"
      ]
     },
     "execution_count": 85,
     "metadata": {},
     "output_type": "execute_result"
    }
   ],
   "source": [
    "%%sql sqlite:///../datasets/AucklandProperties.db\n",
    "DROP TABLE IF EXISTS LAND;\n",
    "CREATE TABLE LAND(\n",
    "    idx INTEGER NOT NULL UNIQUE,\n",
    "    Location TEXT NOT NULL,\n",
    "    LandSize_m2 REAL,\n",
    "    SalePrice INTEGER NOT NULL,\n",
    "    FOREIGN KEY (idx) REFERENCES LOCATION (idx)\n",
    ");"
   ]
  },
  {
   "cell_type": "markdown",
   "metadata": {},
   "source": [
    "### Property type table"
   ]
  },
  {
   "cell_type": "code",
   "execution_count": 76,
   "metadata": {},
   "outputs": [
    {
     "name": "stdout",
     "output_type": "stream",
     "text": [
      "Done.\n",
      "Done.\n"
     ]
    },
    {
     "data": {
      "text/plain": [
       "[]"
      ]
     },
     "execution_count": 76,
     "metadata": {},
     "output_type": "execute_result"
    }
   ],
   "source": [
    "%%sql sqlite:///../datasets/AucklandProperties.db\n",
    "DROP TABLE IF EXISTS TYPES;\n",
    "CREATE TABLE TYPES(\n",
    "    idx INTEGER NOT NULL UNIQUE,\n",
    "    Location TEXT NOT NULL,\n",
    "    PropertyType TEXT NOT NULL,\n",
    "    SalePrice INTEGER NOT NULL,\n",
    "    FOREIGN KEY (idx) REFERENCES LOCATION (idx)\n",
    ");"
   ]
  },
  {
   "cell_type": "markdown",
   "metadata": {},
   "source": [
    "### Geometry table"
   ]
  },
  {
   "cell_type": "code",
   "execution_count": 77,
   "metadata": {},
   "outputs": [
    {
     "name": "stdout",
     "output_type": "stream",
     "text": [
      "Done.\n",
      "Done.\n"
     ]
    },
    {
     "data": {
      "text/plain": [
       "[]"
      ]
     },
     "execution_count": 77,
     "metadata": {},
     "output_type": "execute_result"
    }
   ],
   "source": [
    "%%sql sqlite:///../datasets/AucklandProperties.db\n",
    "DROP TABLE IF EXISTS GEOMETRY;\n",
    "CREATE TABLE GEOMETRY(\n",
    "    idx INTEGER NOT NULL UNIQUE,\n",
    "    Location TEXT NOT NULL,\n",
    "    Latitude REAL NOT NULL,\n",
    "    Longitude REAL NOT NULL,\n",
    "    geometry TEXT NOT NULL,\n",
    "    SalePrice INTEGER NOT NULL,\n",
    "    FOREIGN KEY (idx) REFERENCES LOCATION (idx)\n",
    ");"
   ]
  },
  {
   "cell_type": "code",
   "execution_count": 78,
   "metadata": {},
   "outputs": [
    {
     "name": "stdout",
     "output_type": "stream",
     "text": [
      "Done.\n"
     ]
    },
    {
     "data": {
      "text/html": [
       "<table>\n",
       "    <tr>\n",
       "        <th>foreign_keys</th>\n",
       "    </tr>\n",
       "    <tr>\n",
       "        <td>1</td>\n",
       "    </tr>\n",
       "</table>"
      ],
      "text/plain": [
       "[(1,)]"
      ]
     },
     "execution_count": 78,
     "metadata": {},
     "output_type": "execute_result"
    }
   ],
   "source": [
    "%sql sqlite:///../datasets/AucklandProperties.db PRAGMA foreign_keys"
   ]
  },
  {
   "cell_type": "markdown",
   "metadata": {},
   "source": [
    "## 2. DB Population"
   ]
  },
  {
   "cell_type": "markdown",
   "metadata": {},
   "source": [
    "The next step is to populate the DB tables with the real estate data. I extract the relevant columns and create a pandas dataframe for each corresponding DB table. I also set the index as a newly created \"idx\" in each dataframe. Then each dataframe is read into SQLite tables. The persistence of data is checked after each reading."
   ]
  },
  {
   "cell_type": "code",
   "execution_count": 46,
   "metadata": {},
   "outputs": [
    {
     "data": {
      "text/html": [
       "<div>\n",
       "<style scoped>\n",
       "    .dataframe tbody tr th:only-of-type {\n",
       "        vertical-align: middle;\n",
       "    }\n",
       "\n",
       "    .dataframe tbody tr th {\n",
       "        vertical-align: top;\n",
       "    }\n",
       "\n",
       "    .dataframe thead th {\n",
       "        text-align: right;\n",
       "    }\n",
       "</style>\n",
       "<table border=\"1\" class=\"dataframe\">\n",
       "  <thead>\n",
       "    <tr style=\"text-align: right;\">\n",
       "      <th></th>\n",
       "      <th>Location</th>\n",
       "      <th>Suburb</th>\n",
       "      <th>Area</th>\n",
       "      <th>Bedroom</th>\n",
       "      <th>Bathroom</th>\n",
       "      <th>LandSize_m2</th>\n",
       "      <th>PropertyType</th>\n",
       "      <th>SalePrice</th>\n",
       "      <th>Latitude</th>\n",
       "      <th>Longitude</th>\n",
       "      <th>geometry</th>\n",
       "    </tr>\n",
       "    <tr>\n",
       "      <th>idx</th>\n",
       "      <th></th>\n",
       "      <th></th>\n",
       "      <th></th>\n",
       "      <th></th>\n",
       "      <th></th>\n",
       "      <th></th>\n",
       "      <th></th>\n",
       "      <th></th>\n",
       "      <th></th>\n",
       "      <th></th>\n",
       "      <th></th>\n",
       "    </tr>\n",
       "  </thead>\n",
       "  <tbody>\n",
       "    <tr>\n",
       "      <th>0</th>\n",
       "      <td>17/104 Rosier Road, Glen Eden</td>\n",
       "      <td>Glen Eden</td>\n",
       "      <td>West</td>\n",
       "      <td>2</td>\n",
       "      <td>1</td>\n",
       "      <td>NaN</td>\n",
       "      <td>Townhouse</td>\n",
       "      <td>819000</td>\n",
       "      <td>-36.91808</td>\n",
       "      <td>174.63994</td>\n",
       "      <td>POINT (174.63994 -36.91808)</td>\n",
       "    </tr>\n",
       "    <tr>\n",
       "      <th>1</th>\n",
       "      <td>35 Hobson Street, Auckland Central</td>\n",
       "      <td>Auckland Central</td>\n",
       "      <td>Central</td>\n",
       "      <td>1</td>\n",
       "      <td>1</td>\n",
       "      <td>NaN</td>\n",
       "      <td>Apartment</td>\n",
       "      <td>549000</td>\n",
       "      <td>-36.84668</td>\n",
       "      <td>174.76202</td>\n",
       "      <td>POINT (174.76202 -36.84668)</td>\n",
       "    </tr>\n",
       "    <tr>\n",
       "      <th>2</th>\n",
       "      <td>158 Onehunga Mall, Onehunga</td>\n",
       "      <td>Onehunga</td>\n",
       "      <td>Central</td>\n",
       "      <td>2</td>\n",
       "      <td>1</td>\n",
       "      <td>88.0</td>\n",
       "      <td>Apartment</td>\n",
       "      <td>760000</td>\n",
       "      <td>-36.92358</td>\n",
       "      <td>174.78530</td>\n",
       "      <td>POINT (174.7853 -36.92358)</td>\n",
       "    </tr>\n",
       "    <tr>\n",
       "      <th>3</th>\n",
       "      <td>8 Ronayne Street, Auckland Central</td>\n",
       "      <td>Auckland Central</td>\n",
       "      <td>Central</td>\n",
       "      <td>3</td>\n",
       "      <td>2</td>\n",
       "      <td>NaN</td>\n",
       "      <td>Apartment</td>\n",
       "      <td>209000</td>\n",
       "      <td>-36.84914</td>\n",
       "      <td>174.77488</td>\n",
       "      <td>POINT (174.77488 -36.84914)</td>\n",
       "    </tr>\n",
       "    <tr>\n",
       "      <th>4</th>\n",
       "      <td>430 Queen Street, Auckland Central</td>\n",
       "      <td>Auckland Central</td>\n",
       "      <td>Central</td>\n",
       "      <td>2</td>\n",
       "      <td>1</td>\n",
       "      <td>NaN</td>\n",
       "      <td>Apartment</td>\n",
       "      <td>409000</td>\n",
       "      <td>-36.85432</td>\n",
       "      <td>174.76324</td>\n",
       "      <td>POINT (174.76324 -36.85432)</td>\n",
       "    </tr>\n",
       "  </tbody>\n",
       "</table>\n",
       "</div>"
      ],
      "text/plain": [
       "                               Location            Suburb     Area  Bedroom  \\\n",
       "idx                                                                           \n",
       "0         17/104 Rosier Road, Glen Eden         Glen Eden     West        2   \n",
       "1    35 Hobson Street, Auckland Central  Auckland Central  Central        1   \n",
       "2           158 Onehunga Mall, Onehunga          Onehunga  Central        2   \n",
       "3    8 Ronayne Street, Auckland Central  Auckland Central  Central        3   \n",
       "4    430 Queen Street, Auckland Central  Auckland Central  Central        2   \n",
       "\n",
       "     Bathroom  LandSize_m2 PropertyType  SalePrice  Latitude  Longitude  \\\n",
       "idx                                                                       \n",
       "0           1          NaN    Townhouse     819000 -36.91808  174.63994   \n",
       "1           1          NaN    Apartment     549000 -36.84668  174.76202   \n",
       "2           1         88.0    Apartment     760000 -36.92358  174.78530   \n",
       "3           2          NaN    Apartment     209000 -36.84914  174.77488   \n",
       "4           1          NaN    Apartment     409000 -36.85432  174.76324   \n",
       "\n",
       "                        geometry  \n",
       "idx                               \n",
       "0    POINT (174.63994 -36.91808)  \n",
       "1    POINT (174.76202 -36.84668)  \n",
       "2     POINT (174.7853 -36.92358)  \n",
       "3    POINT (174.77488 -36.84914)  \n",
       "4    POINT (174.76324 -36.85432)  "
      ]
     },
     "execution_count": 46,
     "metadata": {},
     "output_type": "execute_result"
    }
   ],
   "source": [
    "listings.head()"
   ]
  },
  {
   "cell_type": "code",
   "execution_count": 80,
   "metadata": {},
   "outputs": [],
   "source": [
    "location = listings[['idx','Location','Suburb','Area','SalePrice']].set_index('idx').copy()\n",
    "price = listings[['idx','Location','SalePrice']].set_index('idx').copy()\n",
    "rooms = listings[['idx','Location','Bedroom','Bathroom','SalePrice']].set_index('idx').copy()\n",
    "land = listings[['idx','Location','LandSize_m2','SalePrice']].set_index('idx').copy()\n",
    "types = listings[['idx','Location','PropertyType','SalePrice']].set_index('idx').copy()\n",
    "geometry = listings[['idx','Location','Latitude','Longitude','geometry','SalePrice']].set_index('idx').copy()"
   ]
  },
  {
   "cell_type": "code",
   "execution_count": 79,
   "metadata": {},
   "outputs": [],
   "source": [
    "connection = sqlite3.connect('../datasets/AucklandProperties.db')\n",
    "location.to_sql('LOCATION', connection, if_exists='append')\n",
    "connection.commit()"
   ]
  },
  {
   "cell_type": "code",
   "execution_count": 90,
   "metadata": {},
   "outputs": [
    {
     "name": "stdout",
     "output_type": "stream",
     "text": [
      " * sqlite:///../datasets/AucklandProperties.db\n",
      "Done.\n",
      "Returning data to local variable sqlres\n"
     ]
    }
   ],
   "source": [
    "%%sql sqlres << \n",
    "SELECT * \n",
    "FROM LOCATION"
   ]
  },
  {
   "cell_type": "code",
   "execution_count": 82,
   "metadata": {},
   "outputs": [],
   "source": [
    "connection = sqlite3.connect('../datasets/AucklandProperties.db')\n",
    "price.to_sql('PRICE', connection, if_exists='append')\n",
    "connection.commit()"
   ]
  },
  {
   "cell_type": "code",
   "execution_count": 91,
   "metadata": {},
   "outputs": [
    {
     "name": "stdout",
     "output_type": "stream",
     "text": [
      " * sqlite:///../datasets/AucklandProperties.db\n",
      "Done.\n",
      "Returning data to local variable sqlres\n"
     ]
    }
   ],
   "source": [
    "%%sql sqlres << \n",
    "SELECT * \n",
    "FROM PRICE"
   ]
  },
  {
   "cell_type": "code",
   "execution_count": 83,
   "metadata": {},
   "outputs": [],
   "source": [
    "connection = sqlite3.connect('../datasets/AucklandProperties.db')\n",
    "rooms.to_sql('ROOMS', connection, if_exists='append')\n",
    "connection.commit()"
   ]
  },
  {
   "cell_type": "code",
   "execution_count": 92,
   "metadata": {},
   "outputs": [
    {
     "name": "stdout",
     "output_type": "stream",
     "text": [
      " * sqlite:///../datasets/AucklandProperties.db\n",
      "Done.\n",
      "Returning data to local variable sqlres\n"
     ]
    }
   ],
   "source": [
    "%%sql sqlres << \n",
    "SELECT * \n",
    "FROM ROOMS"
   ]
  },
  {
   "cell_type": "code",
   "execution_count": 86,
   "metadata": {},
   "outputs": [],
   "source": [
    "connection = sqlite3.connect('../datasets/AucklandProperties.db')\n",
    "land.to_sql('LAND', connection, if_exists='append')\n",
    "connection.commit()"
   ]
  },
  {
   "cell_type": "code",
   "execution_count": 93,
   "metadata": {},
   "outputs": [
    {
     "name": "stdout",
     "output_type": "stream",
     "text": [
      " * sqlite:///../datasets/AucklandProperties.db\n",
      "Done.\n",
      "Returning data to local variable sqlres\n"
     ]
    }
   ],
   "source": [
    "%%sql sqlres << \n",
    "SELECT * \n",
    "FROM LAND"
   ]
  },
  {
   "cell_type": "code",
   "execution_count": 87,
   "metadata": {},
   "outputs": [],
   "source": [
    "connection = sqlite3.connect('../datasets/AucklandProperties.db')\n",
    "types.to_sql('TYPES', connection, if_exists='append')\n",
    "connection.commit()"
   ]
  },
  {
   "cell_type": "code",
   "execution_count": 94,
   "metadata": {},
   "outputs": [
    {
     "name": "stdout",
     "output_type": "stream",
     "text": [
      " * sqlite:///../datasets/AucklandProperties.db\n",
      "Done.\n",
      "Returning data to local variable sqlres\n"
     ]
    }
   ],
   "source": [
    "%%sql sqlres << \n",
    "SELECT * \n",
    "FROM TYPES"
   ]
  },
  {
   "cell_type": "code",
   "execution_count": 88,
   "metadata": {},
   "outputs": [],
   "source": [
    "connection = sqlite3.connect('../datasets/AucklandProperties.db')\n",
    "geometry.to_sql('GEOMETRY', connection, if_exists='append')\n",
    "connection.commit()"
   ]
  },
  {
   "cell_type": "code",
   "execution_count": 95,
   "metadata": {},
   "outputs": [
    {
     "name": "stdout",
     "output_type": "stream",
     "text": [
      " * sqlite:///../datasets/AucklandProperties.db\n",
      "Done.\n",
      "Returning data to local variable sqlres\n"
     ]
    }
   ],
   "source": [
    "%%sql sqlres << \n",
    "SELECT * \n",
    "FROM GEOMETRY"
   ]
  },
  {
   "cell_type": "markdown",
   "metadata": {},
   "source": [
    "## 3. SQLite Queries"
   ]
  },
  {
   "cell_type": "markdown",
   "metadata": {},
   "source": [
    "### Property location and sale price"
   ]
  },
  {
   "cell_type": "markdown",
   "metadata": {},
   "source": [
    "As shown in the table below, properties in North Shore city tend to have the highest average sale price, whereas those in Southern Auckland have the lowest average sale price."
   ]
  },
  {
   "cell_type": "code",
   "execution_count": 120,
   "metadata": {},
   "outputs": [
    {
     "name": "stdout",
     "output_type": "stream",
     "text": [
      "Done.\n"
     ]
    },
    {
     "data": {
      "text/html": [
       "<table>\n",
       "    <tr>\n",
       "        <th>Area</th>\n",
       "        <th>AvgPrice</th>\n",
       "    </tr>\n",
       "    <tr>\n",
       "        <td>NorthShore</td>\n",
       "        <td>1417764.7</td>\n",
       "    </tr>\n",
       "    <tr>\n",
       "        <td>Other</td>\n",
       "        <td>1227920.4</td>\n",
       "    </tr>\n",
       "    <tr>\n",
       "        <td>East</td>\n",
       "        <td>1164873.8</td>\n",
       "    </tr>\n",
       "    <tr>\n",
       "        <td>Central</td>\n",
       "        <td>1160344.2</td>\n",
       "    </tr>\n",
       "    <tr>\n",
       "        <td>West</td>\n",
       "        <td>1085495.1</td>\n",
       "    </tr>\n",
       "    <tr>\n",
       "        <td>South</td>\n",
       "        <td>909244.6</td>\n",
       "    </tr>\n",
       "</table>"
      ],
      "text/plain": [
       "[('NorthShore', 1417764.7),\n",
       " ('Other', 1227920.4),\n",
       " ('East', 1164873.8),\n",
       " ('Central', 1160344.2),\n",
       " ('West', 1085495.1),\n",
       " ('South', 909244.6)]"
      ]
     },
     "execution_count": 120,
     "metadata": {},
     "output_type": "execute_result"
    }
   ],
   "source": [
    "%%sql sqlite://\n",
    "SELECT \n",
    "    Area,\n",
    "    ROUND(AVG(SalePrice),1) as AvgPrice\n",
    "FROM LOCATION\n",
    "GROUP BY Area\n",
    "ORDER BY AvgPrice DESC"
   ]
  },
  {
   "cell_type": "markdown",
   "metadata": {},
   "source": [
    "The top 10 properties by sale price are shown as follows. Due to the website's mistake, some records are duplicate even though ```DISTINCT``` has been specified. However, the table still suggests that other than properties on islands, properties on Remuera, Auckland Central, Laingholm, and Epsom have a higher sale price. "
   ]
  },
  {
   "cell_type": "code",
   "execution_count": 138,
   "metadata": {},
   "outputs": [
    {
     "name": "stdout",
     "output_type": "stream",
     "text": [
      "Done.\n"
     ]
    },
    {
     "data": {
      "text/html": [
       "<table>\n",
       "    <tr>\n",
       "        <th>Location</th>\n",
       "        <th>Suburb</th>\n",
       "        <th>SalePrice</th>\n",
       "    </tr>\n",
       "    <tr>\n",
       "        <td>Pakatoa Island, Auckland Central</td>\n",
       "        <td>Auckland Central</td>\n",
       "        <td>50000000</td>\n",
       "    </tr>\n",
       "    <tr>\n",
       "        <td>1 Pakatoa Island, Auckland Central</td>\n",
       "        <td>Auckland Central</td>\n",
       "        <td>50000000</td>\n",
       "    </tr>\n",
       "    <tr>\n",
       "        <td>Pakatoa Island, Hauraki Gulf, Hauraki</td>\n",
       "        <td>Hauraki</td>\n",
       "        <td>50000000</td>\n",
       "    </tr>\n",
       "    <tr>\n",
       "        <td>1 Pakatoa Island, Other Islands</td>\n",
       "        <td>Other Islands</td>\n",
       "        <td>50000000</td>\n",
       "    </tr>\n",
       "    <tr>\n",
       "        <td>. Pakatoa Island, Auckland Central</td>\n",
       "        <td>Auckland Central</td>\n",
       "        <td>40000000</td>\n",
       "    </tr>\n",
       "    <tr>\n",
       "        <td>306 Cowes Bay Road, Waiheke Island</td>\n",
       "        <td>Waiheke Island</td>\n",
       "        <td>28000000</td>\n",
       "    </tr>\n",
       "    <tr>\n",
       "        <td>218 Victoria Avenue, Remuera</td>\n",
       "        <td>Remuera</td>\n",
       "        <td>11295000</td>\n",
       "    </tr>\n",
       "    <tr>\n",
       "        <td>51 Albert Street, Auckland Central</td>\n",
       "        <td>Auckland Central</td>\n",
       "        <td>11000000</td>\n",
       "    </tr>\n",
       "    <tr>\n",
       "        <td>104 Kauri Point Road, Laingholm</td>\n",
       "        <td>Laingholm</td>\n",
       "        <td>8975000</td>\n",
       "    </tr>\n",
       "    <tr>\n",
       "        <td>71 Watling Street, Epsom</td>\n",
       "        <td>Epsom</td>\n",
       "        <td>8050000</td>\n",
       "    </tr>\n",
       "</table>"
      ],
      "text/plain": [
       "[('Pakatoa Island, Auckland Central', 'Auckland Central', 50000000),\n",
       " ('1 Pakatoa Island, Auckland Central', 'Auckland Central', 50000000),\n",
       " ('Pakatoa Island, Hauraki Gulf, Hauraki', 'Hauraki', 50000000),\n",
       " ('1 Pakatoa Island, Other Islands', 'Other Islands', 50000000),\n",
       " ('. Pakatoa Island, Auckland Central', 'Auckland Central', 40000000),\n",
       " ('306 Cowes Bay Road, Waiheke Island', 'Waiheke Island', 28000000),\n",
       " ('218 Victoria Avenue, Remuera', 'Remuera', 11295000),\n",
       " ('51 Albert Street, Auckland Central', 'Auckland Central', 11000000),\n",
       " ('104 Kauri Point Road, Laingholm', 'Laingholm', 8975000),\n",
       " ('71 Watling Street, Epsom', 'Epsom', 8050000)]"
      ]
     },
     "execution_count": 138,
     "metadata": {},
     "output_type": "execute_result"
    }
   ],
   "source": [
    "%%sql sqlite://\n",
    "SELECT \n",
    "    DISTINCT Location,\n",
    "    Suburb,\n",
    "    SalePrice\n",
    "FROM LOCATION\n",
    "ORDER BY SalePrice DESC\n",
    "LIMIT 10"
   ]
  },
  {
   "cell_type": "markdown",
   "metadata": {},
   "source": [
    "However, when we look at the bottom 10 properties by sale price, most of them are located in Auckland Central and Remuera. This may suggest that there could be other factors affecting the sale price. "
   ]
  },
  {
   "cell_type": "code",
   "execution_count": 118,
   "metadata": {},
   "outputs": [
    {
     "name": "stdout",
     "output_type": "stream",
     "text": [
      "Done.\n"
     ]
    },
    {
     "data": {
      "text/html": [
       "<table>\n",
       "    <tr>\n",
       "        <th>Location</th>\n",
       "        <th>Suburb</th>\n",
       "        <th>SalePrice</th>\n",
       "    </tr>\n",
       "    <tr>\n",
       "        <td>414/133 Beach Road, Auckland Central</td>\n",
       "        <td>Auckland Central</td>\n",
       "        <td>55000</td>\n",
       "    </tr>\n",
       "    <tr>\n",
       "        <td>20/267 Remuera Road, Remuera</td>\n",
       "        <td>Remuera</td>\n",
       "        <td>69900</td>\n",
       "    </tr>\n",
       "    <tr>\n",
       "        <td>1117/2 Beach Road, Auckland Central</td>\n",
       "        <td>Auckland Central</td>\n",
       "        <td>79000</td>\n",
       "    </tr>\n",
       "    <tr>\n",
       "        <td>4/267 Remuera Road, Remuera</td>\n",
       "        <td>Remuera</td>\n",
       "        <td>85000</td>\n",
       "    </tr>\n",
       "    <tr>\n",
       "        <td>7H/15 City Road, Auckland Central</td>\n",
       "        <td>Auckland Central</td>\n",
       "        <td>89000</td>\n",
       "    </tr>\n",
       "    <tr>\n",
       "        <td>23-31 Hobson Street, Auckland Central</td>\n",
       "        <td>Auckland Central</td>\n",
       "        <td>89000</td>\n",
       "    </tr>\n",
       "    <tr>\n",
       "        <td>5B/15 City Road, Auckland Central</td>\n",
       "        <td>Auckland Central</td>\n",
       "        <td>89000</td>\n",
       "    </tr>\n",
       "    <tr>\n",
       "        <td>9I/15 City Road, Auckland Central</td>\n",
       "        <td>Auckland Central</td>\n",
       "        <td>89000</td>\n",
       "    </tr>\n",
       "    <tr>\n",
       "        <td>Carpark 1/152 Hobson Street, Auckland Central</td>\n",
       "        <td>Auckland Central</td>\n",
       "        <td>96500</td>\n",
       "    </tr>\n",
       "    <tr>\n",
       "        <td>40/139 Quay Street, Auckland Central</td>\n",
       "        <td>Auckland Central</td>\n",
       "        <td>99000</td>\n",
       "    </tr>\n",
       "</table>"
      ],
      "text/plain": [
       "[('414/133 Beach Road, Auckland Central', 'Auckland Central', 55000),\n",
       " ('20/267 Remuera Road, Remuera', 'Remuera', 69900),\n",
       " ('1117/2 Beach Road, Auckland Central', 'Auckland Central', 79000),\n",
       " ('4/267 Remuera Road, Remuera', 'Remuera', 85000),\n",
       " ('7H/15 City Road, Auckland Central', 'Auckland Central', 89000),\n",
       " ('23-31 Hobson Street, Auckland Central', 'Auckland Central', 89000),\n",
       " ('5B/15 City Road, Auckland Central', 'Auckland Central', 89000),\n",
       " ('9I/15 City Road, Auckland Central', 'Auckland Central', 89000),\n",
       " ('Carpark 1/152 Hobson Street, Auckland Central', 'Auckland Central', 96500),\n",
       " ('40/139 Quay Street, Auckland Central', 'Auckland Central', 99000)]"
      ]
     },
     "execution_count": 118,
     "metadata": {},
     "output_type": "execute_result"
    }
   ],
   "source": [
    "%%sql sqlite://\n",
    "SELECT \n",
    "    DISTINCT Location,\n",
    "    Suburb,\n",
    "    SalePrice\n",
    "FROM LOCATION\n",
    "ORDER BY SalePrice ASC\n",
    "LIMIT 10"
   ]
  },
  {
   "cell_type": "markdown",
   "metadata": {},
   "source": [
    "### Property type and sale price"
   ]
  },
  {
   "cell_type": "markdown",
   "metadata": {},
   "source": [
    "Since there is not much variation on the location and suburb concerning the sale price, we now include their property types to analyse if different property types affect the sale price. It is done by joining the LOCATION and TYPES tables together.\n",
    "\n",
    "As shown in the table of the top 10 properties by sale price, properties belong to either lifestyle property or house, except the one on Albert Street. In comparison, the bottom 10 table indicates that apartments and units tend to have a lower sale price."
   ]
  },
  {
   "cell_type": "code",
   "execution_count": 135,
   "metadata": {},
   "outputs": [
    {
     "name": "stdout",
     "output_type": "stream",
     "text": [
      "Done.\n"
     ]
    },
    {
     "data": {
      "text/html": [
       "<table>\n",
       "    <tr>\n",
       "        <th>Location</th>\n",
       "        <th>Suburb</th>\n",
       "        <th>SalePrice</th>\n",
       "        <th>PropertyType</th>\n",
       "    </tr>\n",
       "    <tr>\n",
       "        <td>Pakatoa Island, Auckland Central</td>\n",
       "        <td>Auckland Central</td>\n",
       "        <td>50000000</td>\n",
       "        <td>Lifestyle Property</td>\n",
       "    </tr>\n",
       "    <tr>\n",
       "        <td>1 Pakatoa Island, Auckland Central</td>\n",
       "        <td>Auckland Central</td>\n",
       "        <td>50000000</td>\n",
       "        <td>House</td>\n",
       "    </tr>\n",
       "    <tr>\n",
       "        <td>Pakatoa Island, Hauraki Gulf, Hauraki</td>\n",
       "        <td>Hauraki</td>\n",
       "        <td>50000000</td>\n",
       "        <td>Lifestyle Property</td>\n",
       "    </tr>\n",
       "    <tr>\n",
       "        <td>1 Pakatoa Island, Other Islands</td>\n",
       "        <td>Other Islands</td>\n",
       "        <td>50000000</td>\n",
       "        <td>Lifestyle Property</td>\n",
       "    </tr>\n",
       "    <tr>\n",
       "        <td>. Pakatoa Island, Auckland Central</td>\n",
       "        <td>Auckland Central</td>\n",
       "        <td>40000000</td>\n",
       "        <td>Lifestyle Property</td>\n",
       "    </tr>\n",
       "    <tr>\n",
       "        <td>306 Cowes Bay Road, Waiheke Island</td>\n",
       "        <td>Waiheke Island</td>\n",
       "        <td>28000000</td>\n",
       "        <td>House</td>\n",
       "    </tr>\n",
       "    <tr>\n",
       "        <td>306 Cowes Bay Road, Waiheke Island</td>\n",
       "        <td>Waiheke Island</td>\n",
       "        <td>28000000</td>\n",
       "        <td>Lifestyle Property</td>\n",
       "    </tr>\n",
       "    <tr>\n",
       "        <td>218 Victoria Avenue, Remuera</td>\n",
       "        <td>Remuera</td>\n",
       "        <td>11295000</td>\n",
       "        <td>House</td>\n",
       "    </tr>\n",
       "    <tr>\n",
       "        <td>51 Albert Street, Auckland Central</td>\n",
       "        <td>Auckland Central</td>\n",
       "        <td>11000000</td>\n",
       "        <td>Apartment</td>\n",
       "    </tr>\n",
       "    <tr>\n",
       "        <td>104 Kauri Point Road, Laingholm</td>\n",
       "        <td>Laingholm</td>\n",
       "        <td>8975000</td>\n",
       "        <td>House</td>\n",
       "    </tr>\n",
       "</table>"
      ],
      "text/plain": [
       "[('Pakatoa Island, Auckland Central', 'Auckland Central', 50000000, 'Lifestyle Property'),\n",
       " ('1 Pakatoa Island, Auckland Central', 'Auckland Central', 50000000, 'House'),\n",
       " ('Pakatoa Island, Hauraki Gulf, Hauraki', 'Hauraki', 50000000, 'Lifestyle Property'),\n",
       " ('1 Pakatoa Island, Other Islands', 'Other Islands', 50000000, 'Lifestyle Property'),\n",
       " ('. Pakatoa Island, Auckland Central', 'Auckland Central', 40000000, 'Lifestyle Property'),\n",
       " ('306 Cowes Bay Road, Waiheke Island', 'Waiheke Island', 28000000, 'House'),\n",
       " ('306 Cowes Bay Road, Waiheke Island', 'Waiheke Island', 28000000, 'Lifestyle Property'),\n",
       " ('218 Victoria Avenue, Remuera', 'Remuera', 11295000, 'House'),\n",
       " ('51 Albert Street, Auckland Central', 'Auckland Central', 11000000, 'Apartment'),\n",
       " ('104 Kauri Point Road, Laingholm', 'Laingholm', 8975000, 'House')]"
      ]
     },
     "execution_count": 135,
     "metadata": {},
     "output_type": "execute_result"
    }
   ],
   "source": [
    "%%sql sqlite://\n",
    "SELECT \n",
    "    DISTINCT lo.Location, \n",
    "    lo.Suburb, \n",
    "    lo.SalePrice,\n",
    "    ty.PropertyType\n",
    "FROM TYPES as ty\n",
    "LEFT JOIN LOCATION as lo\n",
    "on ty.idx=lo.idx\n",
    "ORDER BY lo.SalePrice DESC\n",
    "LIMIT 10"
   ]
  },
  {
   "cell_type": "code",
   "execution_count": 139,
   "metadata": {},
   "outputs": [
    {
     "name": "stdout",
     "output_type": "stream",
     "text": [
      "Done.\n"
     ]
    },
    {
     "data": {
      "text/html": [
       "<table>\n",
       "    <tr>\n",
       "        <th>Location</th>\n",
       "        <th>Suburb</th>\n",
       "        <th>SalePrice</th>\n",
       "        <th>PropertyType</th>\n",
       "    </tr>\n",
       "    <tr>\n",
       "        <td>414/133 Beach Road, Auckland Central</td>\n",
       "        <td>Auckland Central</td>\n",
       "        <td>55000</td>\n",
       "        <td>Apartment</td>\n",
       "    </tr>\n",
       "    <tr>\n",
       "        <td>20/267 Remuera Road, Remuera</td>\n",
       "        <td>Remuera</td>\n",
       "        <td>69900</td>\n",
       "        <td>Apartment</td>\n",
       "    </tr>\n",
       "    <tr>\n",
       "        <td>1117/2 Beach Road, Auckland Central</td>\n",
       "        <td>Auckland Central</td>\n",
       "        <td>79000</td>\n",
       "        <td>Apartment</td>\n",
       "    </tr>\n",
       "    <tr>\n",
       "        <td>4/267 Remuera Road, Remuera</td>\n",
       "        <td>Remuera</td>\n",
       "        <td>85000</td>\n",
       "        <td>Apartment</td>\n",
       "    </tr>\n",
       "    <tr>\n",
       "        <td>7H/15 City Road, Auckland Central</td>\n",
       "        <td>Auckland Central</td>\n",
       "        <td>89000</td>\n",
       "        <td>Apartment</td>\n",
       "    </tr>\n",
       "    <tr>\n",
       "        <td>23-31 Hobson Street, Auckland Central</td>\n",
       "        <td>Auckland Central</td>\n",
       "        <td>89000</td>\n",
       "        <td>Unit</td>\n",
       "    </tr>\n",
       "    <tr>\n",
       "        <td>5B/15 City Road, Auckland Central</td>\n",
       "        <td>Auckland Central</td>\n",
       "        <td>89000</td>\n",
       "        <td>Apartment</td>\n",
       "    </tr>\n",
       "    <tr>\n",
       "        <td>9I/15 City Road, Auckland Central</td>\n",
       "        <td>Auckland Central</td>\n",
       "        <td>89000</td>\n",
       "        <td>Apartment</td>\n",
       "    </tr>\n",
       "    <tr>\n",
       "        <td>Carpark 1/152 Hobson Street, Auckland Central</td>\n",
       "        <td>Auckland Central</td>\n",
       "        <td>96500</td>\n",
       "        <td>Carpark</td>\n",
       "    </tr>\n",
       "    <tr>\n",
       "        <td>40/139 Quay Street, Auckland Central</td>\n",
       "        <td>Auckland Central</td>\n",
       "        <td>99000</td>\n",
       "        <td>Apartment</td>\n",
       "    </tr>\n",
       "</table>"
      ],
      "text/plain": [
       "[('414/133 Beach Road, Auckland Central', 'Auckland Central', 55000, 'Apartment'),\n",
       " ('20/267 Remuera Road, Remuera', 'Remuera', 69900, 'Apartment'),\n",
       " ('1117/2 Beach Road, Auckland Central', 'Auckland Central', 79000, 'Apartment'),\n",
       " ('4/267 Remuera Road, Remuera', 'Remuera', 85000, 'Apartment'),\n",
       " ('7H/15 City Road, Auckland Central', 'Auckland Central', 89000, 'Apartment'),\n",
       " ('23-31 Hobson Street, Auckland Central', 'Auckland Central', 89000, 'Unit'),\n",
       " ('5B/15 City Road, Auckland Central', 'Auckland Central', 89000, 'Apartment'),\n",
       " ('9I/15 City Road, Auckland Central', 'Auckland Central', 89000, 'Apartment'),\n",
       " ('Carpark 1/152 Hobson Street, Auckland Central', 'Auckland Central', 96500, 'Carpark'),\n",
       " ('40/139 Quay Street, Auckland Central', 'Auckland Central', 99000, 'Apartment')]"
      ]
     },
     "execution_count": 139,
     "metadata": {},
     "output_type": "execute_result"
    }
   ],
   "source": [
    "%%sql sqlite://\n",
    "SELECT \n",
    "    DISTINCT lo.Location, \n",
    "    lo.Suburb, \n",
    "    lo.SalePrice,\n",
    "    ty.PropertyType\n",
    "FROM TYPES as ty\n",
    "LEFT JOIN LOCATION as lo\n",
    "on ty.idx=lo.idx\n",
    "ORDER BY lo.SalePrice ASC\n",
    "LIMIT 10"
   ]
  },
  {
   "cell_type": "markdown",
   "metadata": {},
   "source": [
    "### Land size and sale price"
   ]
  },
  {
   "cell_type": "markdown",
   "metadata": {},
   "source": [
    "I am also interested to see that if properties having higher sale prices also have larger land sizes. I join the LOCATION and LAND tables to find out if similar addresses are displayed. \n",
    "\n",
    "The first table shows the top 10 properties by land size. As seen from the results, a larger land size is not necessarily related to a higher sale price.  "
   ]
  },
  {
   "cell_type": "code",
   "execution_count": 148,
   "metadata": {},
   "outputs": [
    {
     "name": "stdout",
     "output_type": "stream",
     "text": [
      "Done.\n"
     ]
    },
    {
     "data": {
      "text/html": [
       "<table>\n",
       "    <tr>\n",
       "        <th>idx</th>\n",
       "        <th>Location</th>\n",
       "        <th>LandSize_m2</th>\n",
       "        <th>SalePrice</th>\n",
       "    </tr>\n",
       "    <tr>\n",
       "        <td>2257</td>\n",
       "        <td>948 Whangaripo Valley Road, Wellsford</td>\n",
       "        <td>1802000.0</td>\n",
       "        <td>1600000</td>\n",
       "    </tr>\n",
       "    <tr>\n",
       "        <td>2367</td>\n",
       "        <td>438 Komokoriki Hill Road, Makarau</td>\n",
       "        <td>925000.0</td>\n",
       "        <td>2300000</td>\n",
       "    </tr>\n",
       "    <tr>\n",
       "        <td>77</td>\n",
       "        <td>4193 Kaipara Coast Highway, Tauhoa</td>\n",
       "        <td>529000.0</td>\n",
       "        <td>2500000</td>\n",
       "    </tr>\n",
       "    <tr>\n",
       "        <td>2730</td>\n",
       "        <td>169B Bayer Road, Waiwera</td>\n",
       "        <td>502000.0</td>\n",
       "        <td>625000</td>\n",
       "    </tr>\n",
       "    <tr>\n",
       "        <td>1882</td>\n",
       "        <td>475 Peak Road, Helensville</td>\n",
       "        <td>463000.0</td>\n",
       "        <td>2950000</td>\n",
       "    </tr>\n",
       "    <tr>\n",
       "        <td>1445</td>\n",
       "        <td>210 Staniforth Road, Wellsford</td>\n",
       "        <td>447000.0</td>\n",
       "        <td>3150000</td>\n",
       "    </tr>\n",
       "    <tr>\n",
       "        <td>1045</td>\n",
       "        <td>Lot 1 Brott Road, Kaipara Flats</td>\n",
       "        <td>397000.0</td>\n",
       "        <td>849000</td>\n",
       "    </tr>\n",
       "    <tr>\n",
       "        <td>2731</td>\n",
       "        <td>68 Urquhart Road, Karaka</td>\n",
       "        <td>387000.0</td>\n",
       "        <td>7500000</td>\n",
       "    </tr>\n",
       "    <tr>\n",
       "        <td>2079</td>\n",
       "        <td>Lot 2 Rodney Road, Leigh</td>\n",
       "        <td>359000.0</td>\n",
       "        <td>4500000</td>\n",
       "    </tr>\n",
       "    <tr>\n",
       "        <td>2727</td>\n",
       "        <td>Lot 2/Lot 2 Rodney Road, Leigh</td>\n",
       "        <td>359000.0</td>\n",
       "        <td>4500000</td>\n",
       "    </tr>\n",
       "</table>"
      ],
      "text/plain": [
       "[(2257, '948 Whangaripo Valley Road, Wellsford', 1802000.0, 1600000),\n",
       " (2367, '438 Komokoriki Hill Road, Makarau', 925000.0, 2300000),\n",
       " (77, '4193 Kaipara Coast Highway, Tauhoa', 529000.0, 2500000),\n",
       " (2730, '169B Bayer Road, Waiwera', 502000.0, 625000),\n",
       " (1882, '475 Peak Road, Helensville', 463000.0, 2950000),\n",
       " (1445, '210 Staniforth Road, Wellsford', 447000.0, 3150000),\n",
       " (1045, 'Lot 1 Brott Road, Kaipara Flats', 397000.0, 849000),\n",
       " (2731, '68 Urquhart Road, Karaka', 387000.0, 7500000),\n",
       " (2079, 'Lot 2 Rodney Road, Leigh', 359000.0, 4500000),\n",
       " (2727, 'Lot 2/Lot 2 Rodney Road, Leigh', 359000.0, 4500000)]"
      ]
     },
     "execution_count": 148,
     "metadata": {},
     "output_type": "execute_result"
    }
   ],
   "source": [
    "%%sql sqlite://\n",
    "SELECT * \n",
    "FROM LAND\n",
    "WHERE LandSize_m2 IS NOT NULL\n",
    "ORDER BY LandSize_m2 DESC\n",
    "LIMIT 10"
   ]
  },
  {
   "cell_type": "markdown",
   "metadata": {},
   "source": [
    "The second table displays the top 10 properties by the sale price. Similar results are found. Although properties in Laingholm, Epsom, and Manukau Heights have smaller land sizes, their sale prices are high."
   ]
  },
  {
   "cell_type": "code",
   "execution_count": 145,
   "metadata": {},
   "outputs": [
    {
     "name": "stdout",
     "output_type": "stream",
     "text": [
      "Done.\n"
     ]
    },
    {
     "data": {
      "text/html": [
       "<table>\n",
       "    <tr>\n",
       "        <th>Location</th>\n",
       "        <th>Suburb</th>\n",
       "        <th>SalePrice</th>\n",
       "        <th>LandSize_m2</th>\n",
       "    </tr>\n",
       "    <tr>\n",
       "        <td>Pakatoa Island, Auckland Central</td>\n",
       "        <td>Auckland Central</td>\n",
       "        <td>50000000</td>\n",
       "        <td>241000.0</td>\n",
       "    </tr>\n",
       "    <tr>\n",
       "        <td>1 Pakatoa Island, Auckland Central</td>\n",
       "        <td>Auckland Central</td>\n",
       "        <td>50000000</td>\n",
       "        <td>241000.0</td>\n",
       "    </tr>\n",
       "    <tr>\n",
       "        <td>Pakatoa Island, Hauraki Gulf, Hauraki</td>\n",
       "        <td>Hauraki</td>\n",
       "        <td>50000000</td>\n",
       "        <td>241000.0</td>\n",
       "    </tr>\n",
       "    <tr>\n",
       "        <td>1 Pakatoa Island, Other Islands</td>\n",
       "        <td>Other Islands</td>\n",
       "        <td>50000000</td>\n",
       "        <td>241000.0</td>\n",
       "    </tr>\n",
       "    <tr>\n",
       "        <td>. Pakatoa Island, Auckland Central</td>\n",
       "        <td>Auckland Central</td>\n",
       "        <td>40000000</td>\n",
       "        <td>241000.0</td>\n",
       "    </tr>\n",
       "    <tr>\n",
       "        <td>306 Cowes Bay Road, Waiheke Island</td>\n",
       "        <td>Waiheke Island</td>\n",
       "        <td>28000000</td>\n",
       "        <td>315000.0</td>\n",
       "    </tr>\n",
       "    <tr>\n",
       "        <td>104 Kauri Point Road, Laingholm</td>\n",
       "        <td>Laingholm</td>\n",
       "        <td>8975000</td>\n",
       "        <td>7234.0</td>\n",
       "    </tr>\n",
       "    <tr>\n",
       "        <td>71 Watling Street, Epsom</td>\n",
       "        <td>Epsom</td>\n",
       "        <td>8050000</td>\n",
       "        <td>2258.0</td>\n",
       "    </tr>\n",
       "    <tr>\n",
       "        <td>481 Redoubt Road, Manukau Heights</td>\n",
       "        <td>Manukau Heights</td>\n",
       "        <td>7500000</td>\n",
       "        <td>17000.0</td>\n",
       "    </tr>\n",
       "    <tr>\n",
       "        <td>68 Urquhart Road, Karaka</td>\n",
       "        <td>Karaka</td>\n",
       "        <td>7500000</td>\n",
       "        <td>387000.0</td>\n",
       "    </tr>\n",
       "</table>"
      ],
      "text/plain": [
       "[('Pakatoa Island, Auckland Central', 'Auckland Central', 50000000, 241000.0),\n",
       " ('1 Pakatoa Island, Auckland Central', 'Auckland Central', 50000000, 241000.0),\n",
       " ('Pakatoa Island, Hauraki Gulf, Hauraki', 'Hauraki', 50000000, 241000.0),\n",
       " ('1 Pakatoa Island, Other Islands', 'Other Islands', 50000000, 241000.0),\n",
       " ('. Pakatoa Island, Auckland Central', 'Auckland Central', 40000000, 241000.0),\n",
       " ('306 Cowes Bay Road, Waiheke Island', 'Waiheke Island', 28000000, 315000.0),\n",
       " ('104 Kauri Point Road, Laingholm', 'Laingholm', 8975000, 7234.0),\n",
       " ('71 Watling Street, Epsom', 'Epsom', 8050000, 2258.0),\n",
       " ('481 Redoubt Road, Manukau Heights', 'Manukau Heights', 7500000, 17000.0),\n",
       " ('68 Urquhart Road, Karaka', 'Karaka', 7500000, 387000.0)]"
      ]
     },
     "execution_count": 145,
     "metadata": {},
     "output_type": "execute_result"
    }
   ],
   "source": [
    "%%sql sqlite://\n",
    "SELECT \n",
    "    DISTINCT lo.Location, \n",
    "    lo.Suburb, \n",
    "    lo.SalePrice,\n",
    "    la.LandSize_m2\n",
    "FROM LAND as la\n",
    "LEFT JOIN LOCATION as lo\n",
    "on la.idx=lo.idx\n",
    "WHERE la.LandSize_m2 IS NOT NULL\n",
    "ORDER BY lo.SalePrice DESC\n",
    "LIMIT 10"
   ]
  },
  {
   "cell_type": "markdown",
   "metadata": {},
   "source": [
    "## 4. DB Views"
   ]
  },
  {
   "cell_type": "markdown",
   "metadata": {},
   "source": [
    "### View 1: Median comparison"
   ]
  },
  {
   "cell_type": "markdown",
   "metadata": {},
   "source": [
    "The latest report from Real Estate Institute indicates that the Auckland median price has reached $\\$$1.12 million in April. I will calculate the number of properties whose sale price is above or below the median price. In this dataset, about one-third of the properties have sale prices above the Auckland median price with an average sale price of $\\$$2,286,360.5."
   ]
  },
  {
   "cell_type": "code",
   "execution_count": 158,
   "metadata": {},
   "outputs": [
    {
     "name": "stdout",
     "output_type": "stream",
     "text": [
      " * sqlite:///../datasets/AucklandProperties.db\n",
      "Done.\n"
     ]
    },
    {
     "data": {
      "text/plain": [
       "[]"
      ]
     },
     "execution_count": 158,
     "metadata": {},
     "output_type": "execute_result"
    }
   ],
   "source": [
    "%%sql sqlite://\n",
    "CREATE VIEW MEDIAN_COMPARISON AS\n",
    "    SELECT \n",
    "        MedianComparison,\n",
    "        Count(MedianComparison) as Count,\n",
    "        ROUND(AVG(SalePrice),1) as AvgPrice\n",
    "    FROM\n",
    "        (SELECT \n",
    "            SalePrice, \n",
    "            Location,\n",
    "            CASE WHEN SalePrice > 1120000 THEN 'Above median'\n",
    "            ELSE 'Below median' END\n",
    "            AS MedianComparison\n",
    "        FROM LOCATION)\n",
    "    GROUP BY MedianComparison\n",
    "    ORDER BY Count ASC"
   ]
  },
  {
   "cell_type": "code",
   "execution_count": 159,
   "metadata": {},
   "outputs": [
    {
     "name": "stdout",
     "output_type": "stream",
     "text": [
      "Done.\n"
     ]
    },
    {
     "data": {
      "text/html": [
       "<table>\n",
       "    <tr>\n",
       "        <th>MedianComparison</th>\n",
       "        <th>Count</th>\n",
       "        <th>AvgPrice</th>\n",
       "    </tr>\n",
       "    <tr>\n",
       "        <td>Above median</td>\n",
       "        <td>883</td>\n",
       "        <td>2286360.5</td>\n",
       "    </tr>\n",
       "    <tr>\n",
       "        <td>Below median</td>\n",
       "        <td>1869</td>\n",
       "        <td>654553.5</td>\n",
       "    </tr>\n",
       "</table>"
      ],
      "text/plain": [
       "[('Above median', 883, 2286360.5), ('Below median', 1869, 654553.5)]"
      ]
     },
     "execution_count": 159,
     "metadata": {},
     "output_type": "execute_result"
    }
   ],
   "source": [
    "%%sql sqlite://\n",
    "SELECT *\n",
    "FROM MEDIAN_COMPARISON"
   ]
  },
  {
   "cell_type": "markdown",
   "metadata": {},
   "source": [
    "### View 2: North Shore property types"
   ]
  },
  {
   "cell_type": "markdown",
   "metadata": {},
   "source": [
    "The second view shows the number of different property types in North Shore city. The dominant types are houses and apartments."
   ]
  },
  {
   "cell_type": "code",
   "execution_count": 175,
   "metadata": {},
   "outputs": [
    {
     "name": "stdout",
     "output_type": "stream",
     "text": [
      "Done.\n"
     ]
    },
    {
     "data": {
      "text/plain": [
       "[]"
      ]
     },
     "execution_count": 175,
     "metadata": {},
     "output_type": "execute_result"
    }
   ],
   "source": [
    "%%sql sqlite://\n",
    "CREATE VIEW TYPE_COUNT_NORTHSHORE AS\n",
    "    SELECT PropertyType, COUNT(PropertyType) as Count_NorthShore\n",
    "    FROM (SELECT\n",
    "            lo.Area,\n",
    "            lo.SalePrice,\n",
    "            ty.PropertyType\n",
    "        FROM TYPES as ty\n",
    "        LEFT JOIN LOCATION as lo\n",
    "        on ty.idx=lo.idx)\n",
    "    WHERE Area = 'NorthShore'\n",
    "    GROUP BY PropertyType\n",
    "    ORDER BY Count_NorthShore DESC"
   ]
  },
  {
   "cell_type": "code",
   "execution_count": 176,
   "metadata": {},
   "outputs": [
    {
     "name": "stdout",
     "output_type": "stream",
     "text": [
      "Done.\n"
     ]
    },
    {
     "data": {
      "text/html": [
       "<table>\n",
       "    <tr>\n",
       "        <th>PropertyType</th>\n",
       "        <th>Count_NorthShore</th>\n",
       "    </tr>\n",
       "    <tr>\n",
       "        <td>House</td>\n",
       "        <td>133</td>\n",
       "    </tr>\n",
       "    <tr>\n",
       "        <td>Apartment</td>\n",
       "        <td>121</td>\n",
       "    </tr>\n",
       "    <tr>\n",
       "        <td>Townhouse</td>\n",
       "        <td>58</td>\n",
       "    </tr>\n",
       "    <tr>\n",
       "        <td>Section</td>\n",
       "        <td>21</td>\n",
       "    </tr>\n",
       "    <tr>\n",
       "        <td>Unit</td>\n",
       "        <td>12</td>\n",
       "    </tr>\n",
       "    <tr>\n",
       "        <td>Home &amp; Income</td>\n",
       "        <td>5</td>\n",
       "    </tr>\n",
       "    <tr>\n",
       "        <td>Lifestyle Section</td>\n",
       "        <td>4</td>\n",
       "    </tr>\n",
       "    <tr>\n",
       "        <td>Lifestyle Property</td>\n",
       "        <td>3</td>\n",
       "    </tr>\n",
       "</table>"
      ],
      "text/plain": [
       "[('House', 133),\n",
       " ('Apartment', 121),\n",
       " ('Townhouse', 58),\n",
       " ('Section', 21),\n",
       " ('Unit', 12),\n",
       " ('Home & Income', 5),\n",
       " ('Lifestyle Section', 4),\n",
       " ('Lifestyle Property', 3)]"
      ]
     },
     "execution_count": 176,
     "metadata": {},
     "output_type": "execute_result"
    }
   ],
   "source": [
    "%%sql sqlite://\n",
    "SELECT *\n",
    "FROM TYPE_COUNT_NORTHSHORE"
   ]
  }
 ],
 "metadata": {
  "kernelspec": {
   "display_name": "Python 3",
   "language": "python",
   "name": "python3"
  },
  "language_info": {
   "codemirror_mode": {
    "name": "ipython",
    "version": 3
   },
   "file_extension": ".py",
   "mimetype": "text/x-python",
   "name": "python",
   "nbconvert_exporter": "python",
   "pygments_lexer": "ipython3",
   "version": "3.8.3"
  }
 },
 "nbformat": 4,
 "nbformat_minor": 4
}
